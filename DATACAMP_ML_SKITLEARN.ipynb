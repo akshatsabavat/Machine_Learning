{
 "cells": [
  {
   "cell_type": "markdown",
   "id": "9b6dabf7",
   "metadata": {},
   "source": [
    " # Machine learning via scikit-learn\n",
    " ### ML has two types of learning :\n",
    " 1. Supervised learning\n",
    " 2. Unsupervised learning\n",
    " \n",
    "`Supervised Learning has two types Classification, target variables are divided into categories and Regression, where the target variable is continuous`\n",
    " \n",
    " ### Naming Conventions\n",
    " 1. Feature, Known as predictor variable or independent variable\n",
    " 2. Classes, Known as target variable, dependent variable or response variable"
   ]
  },
  {
   "cell_type": "markdown",
   "id": "372241d2",
   "metadata": {},
   "source": [
    "## Scikit Learn Syntax\n",
    "`from sklearn.module import <Model Name>` to import modules <br>\n",
    "`model.fit(X,Y)` to train model to learn data patterns <br>\n",
    "`predictions = model.predict(X_new)` model predicts data using test data points or new data points"
   ]
  },
  {
   "cell_type": "code",
   "execution_count": null,
   "id": "e5b54af0",
   "metadata": {},
   "outputs": [],
   "source": []
  }
 ],
 "metadata": {
  "kernelspec": {
   "display_name": "Python 3 (ipykernel)",
   "language": "python",
   "name": "python3"
  },
  "language_info": {
   "codemirror_mode": {
    "name": "ipython",
    "version": 3
   },
   "file_extension": ".py",
   "mimetype": "text/x-python",
   "name": "python",
   "nbconvert_exporter": "python",
   "pygments_lexer": "ipython3",
   "version": "3.10.1"
  }
 },
 "nbformat": 4,
 "nbformat_minor": 5
}
